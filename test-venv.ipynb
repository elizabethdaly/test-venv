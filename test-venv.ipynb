{
 "cells": [
  {
   "cell_type": "markdown",
   "metadata": {},
   "source": [
    "## test-venv\n",
    "\n",
    "Test all the imports I'll need for my project.\n",
    "On first run it tells me: ModuleNotFoundError: No module named 'numpy'\n",
    "So install them one by one in venv"
   ]
  },
  {
   "cell_type": "code",
   "execution_count": 2,
   "metadata": {},
   "outputs": [],
   "source": [
    "# For numerical arrays.\n",
    "import numpy as np\n",
    "\n",
    "# For plotting\n",
    "import matplotlib.pyplot as plt\n",
    "\n",
    "###For maths (maybe not used in project)\n",
    "import math as m\n",
    "\n",
    "# Might use this.\n",
    "import seaborn as sns\n",
    "\n",
    "# For linear regression.\n",
    "from sklearn import linear_model\n",
    "\n",
    "# For evaluating model performance.\n",
    "from sklearn.metrics import mean_squared_error, r2_score\n",
    "\n",
    "# For generating polynomial features in the data.\n",
    "from sklearn.preprocessing import PolynomialFeatures\n",
    "\n",
    "# For splitting data into train / test sets.\n",
    "from sklearn.model_selection import train_test_split\n",
    "\n",
    "# For defining a pipeline. NOT USED\n",
    "# from sklearn.pipeline import Pipeline\n",
    "\n",
    "# For support vector machine regression.\n",
    "from sklearn.svm import SVR\n",
    "\n",
    "# Want to scale the input  for SVR.\n",
    "from sklearn.preprocessing import StandardScaler\n",
    "\n",
    "# For neural networks\n",
    "import tensorflow.keras as kr\n",
    "\n",
    "# For saving/restoring models using pickle\n",
    "import joblib"
   ]
  },
  {
   "cell_type": "markdown",
   "metadata": {},
   "source": [
    "***\n",
    "RuntimeError: The current Numpy installation ('c:\\\\users\\\\lizma\\\\springboard\\\\52954 machine learning and statistics\\\\test-venv\\\\venv\\\\lib\\\\site-packages\\\\numpy\\\\__init__.py') fails to pass a sanity check due to a bug in the windows runtime. See this issue for more information: https://tinyurl.com/y3dm3h86\n",
    "\n",
    "https://stackoverflow.com/questions/64729944/runtimeerror-the-current-numpy-installation-fails-to-pass-a-sanity-check-due-to\n",
    "***"
   ]
  },
  {
   "cell_type": "code",
   "execution_count": null,
   "metadata": {},
   "outputs": [],
   "source": []
  }
 ],
 "metadata": {
  "kernelspec": {
   "display_name": "Python 3",
   "language": "python",
   "name": "python3"
  },
  "language_info": {
   "codemirror_mode": {
    "name": "ipython",
    "version": 3
   },
   "file_extension": ".py",
   "mimetype": "text/x-python",
   "name": "python",
   "nbconvert_exporter": "python",
   "pygments_lexer": "ipython3",
   "version": "3.8.5"
  }
 },
 "nbformat": 4,
 "nbformat_minor": 4
}
